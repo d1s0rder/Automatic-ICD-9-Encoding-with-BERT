{
 "cells": [
  {
   "cell_type": "code",
   "execution_count": 1,
   "metadata": {
    "collapsed": true
   },
   "outputs": [],
   "source": [
    "# Retrain based on the model saved from Project-BERT"
   ]
  },
  {
   "cell_type": "code",
   "execution_count": 1,
   "metadata": {
    "collapsed": false,
    "deletable": true,
    "editable": true
   },
   "outputs": [
    {
     "name": "stderr",
     "output_type": "stream",
     "text": [
      "/home/jz3502/.local/lib/python3.5/site-packages/tensorflow/python/framework/dtypes.py:471: FutureWarning: Passing (type, 1) or '1type' as a synonym of type is deprecated; in a future version of numpy, it will be understood as (type, (1,)) / '(1,)type'.\n",
      "  _np_qint8 = np.dtype([(\"qint8\", np.int8, 1)])\n",
      "/home/jz3502/.local/lib/python3.5/site-packages/tensorflow/python/framework/dtypes.py:472: FutureWarning: Passing (type, 1) or '1type' as a synonym of type is deprecated; in a future version of numpy, it will be understood as (type, (1,)) / '(1,)type'.\n",
      "  _np_quint8 = np.dtype([(\"quint8\", np.uint8, 1)])\n",
      "/home/jz3502/.local/lib/python3.5/site-packages/tensorflow/python/framework/dtypes.py:473: FutureWarning: Passing (type, 1) or '1type' as a synonym of type is deprecated; in a future version of numpy, it will be understood as (type, (1,)) / '(1,)type'.\n",
      "  _np_qint16 = np.dtype([(\"qint16\", np.int16, 1)])\n",
      "/home/jz3502/.local/lib/python3.5/site-packages/tensorflow/python/framework/dtypes.py:474: FutureWarning: Passing (type, 1) or '1type' as a synonym of type is deprecated; in a future version of numpy, it will be understood as (type, (1,)) / '(1,)type'.\n",
      "  _np_quint16 = np.dtype([(\"quint16\", np.uint16, 1)])\n",
      "/home/jz3502/.local/lib/python3.5/site-packages/tensorflow/python/framework/dtypes.py:475: FutureWarning: Passing (type, 1) or '1type' as a synonym of type is deprecated; in a future version of numpy, it will be understood as (type, (1,)) / '(1,)type'.\n",
      "  _np_qint32 = np.dtype([(\"qint32\", np.int32, 1)])\n"
     ]
    }
   ],
   "source": [
    "import numpy as np\n",
    "import pandas as pd\n",
    "import matplotlib.pyplot as plt\n",
    "%matplotlib inline\n",
    "import torch \n",
    "from torch import nn\n",
    "from torch.utils.data import DataLoader, Dataset, TensorDataset, SequentialSampler\n",
    "import tqdm\n",
    "from transformers import BertForSequenceClassification, AdamW, BertTokenizer, BertModel\n",
    "from sklearn.preprocessing import LabelEncoder"
   ]
  },
  {
   "cell_type": "code",
   "execution_count": 6,
   "metadata": {
    "collapsed": true,
    "deletable": true,
    "editable": true
   },
   "outputs": [],
   "source": [
    "tokenizer = BertTokenizer.from_pretrained('bert-base-uncased', do_lower_case = True)"
   ]
  },
  {
   "cell_type": "code",
   "execution_count": 2,
   "metadata": {
    "collapsed": false,
    "deletable": true,
    "editable": true
   },
   "outputs": [
    {
     "data": {
      "application/vnd.jupyter.widget-view+json": {
       "model_id": "fc72ac3091c84a29b7078f3931344543",
       "version_major": 2,
       "version_minor": 0
      },
      "text/plain": [
       "HBox(children=(FloatProgress(value=0.0, description='Downloading', max=433.0, style=ProgressStyle(description_…"
      ]
     },
     "metadata": {},
     "output_type": "display_data"
    },
    {
     "name": "stdout",
     "output_type": "stream",
     "text": [
      "\n"
     ]
    }
   ],
   "source": [
    "bert = BertModel.from_pretrained('bert-base-cased', output_attentions=True)"
   ]
  },
  {
   "cell_type": "code",
   "execution_count": 7,
   "metadata": {
    "collapsed": false,
    "deletable": true,
    "editable": true
   },
   "outputs": [],
   "source": [
    "bert.embeddings.word_embeddings = nn.Embedding(tokenizer.vocab_size, 768, padding_idx = 0)"
   ]
  },
  {
   "cell_type": "code",
   "execution_count": 8,
   "metadata": {
    "collapsed": false,
    "deletable": true,
    "editable": true
   },
   "outputs": [],
   "source": [
    "# # Split the sequence in half and then tokenize seperately\n",
    "\n",
    "# def bert_tokenize(data, max_length, label_dict):\n",
    "    \n",
    "#     input_ids_first = []\n",
    "#     input_ids_second = []\n",
    "#     attention_masks_first = []\n",
    "#     attention_masks_second = []\n",
    "#     labels = []\n",
    "    \n",
    "#     for sentence in data['TEXT']:\n",
    "#         text_len = len(sentence)\n",
    "\n",
    "#         encoded_dict_first = tokenizer.encode_plus(sentence[:text_len//2], add_special_tokens = True, max_length = max_length,\\\n",
    "#                                              pad_to_max_length = True, return_attention_mask = True, return_tensors = 'pt')\n",
    "#         input_ids_first.append(encoded_dict_first['input_ids'])\n",
    "#         attention_masks_first.append(encoded_dict_first['attention_mask'])\n",
    "   \n",
    "        \n",
    "#         encoded_dict_second = tokenizer.encode_plus(sentence[text_len//2:], add_special_tokens = True, max_length = max_length,\\\n",
    "#                                              pad_to_max_length = True, return_attention_mask = True, return_tensors = 'pt')\n",
    "#         input_ids_second.append(encoded_dict_second['input_ids'])\n",
    "#         attention_masks_second.append(encoded_dict_second['attention_mask'])\n",
    "        \n",
    "#     for codes in data['ICD9_CODE_1k']:\n",
    "#         label = [0]*1000\n",
    "        \n",
    "#         all_code = codes.split(',')\n",
    "#         for code in all_code:\n",
    "#             label[label_dict[code]] = 1\n",
    "        \n",
    "#         labels.append(torch.tensor(label))\n",
    "\n",
    "\n",
    "        \n",
    "#     input_ids_first = torch.cat(input_ids_first, dim=0)\n",
    "#     attention_masks_first = torch.cat(attention_masks_first, dim=0)\n",
    "#     input_ids_second = torch.cat(input_ids_second, dim=0)\n",
    "#     attention_masks_second = torch.cat(attention_masks_second, dim=0)\n",
    "#     labels = torch.stack(labels, dim=0)\n",
    "        \n",
    "#     return input_ids_first, attention_masks_first, input_ids_second, attention_masks_second, labels"
   ]
  },
  {
   "cell_type": "code",
   "execution_count": 9,
   "metadata": {
    "collapsed": false,
    "deletable": true,
    "editable": true
   },
   "outputs": [],
   "source": [
    "device = torch.device('cuda') if torch.cuda.is_available() else torch.device('cpu')"
   ]
  },
  {
   "cell_type": "code",
   "execution_count": 10,
   "metadata": {
    "collapsed": false,
    "deletable": true,
    "editable": true
   },
   "outputs": [],
   "source": [
    "train_loader_bert = torch.load('train_dataloader.pth')\n",
    "val_loader_bert = torch.load('val_dataloader.pth')\n",
    "test_loader_bert = torch.load('test_dataloader.pth')"
   ]
  },
  {
   "cell_type": "code",
   "execution_count": 11,
   "metadata": {
    "collapsed": false,
    "deletable": true,
    "editable": true
   },
   "outputs": [],
   "source": [
    "# Train first and second half of the sequence seperately, then concatenate the hidden state output\n",
    "\n",
    "class BERTClassifier(nn.Module):\n",
    "    def __init__(self, bert, num_classes):\n",
    "        super().__init__()\n",
    "        self.bert = bert\n",
    "        self.linear = nn.Linear(bert.config.hidden_size*2, num_classes)\n",
    "        self.num_classes = num_classes\n",
    "    \n",
    "    def forward(self, input_ids_first, attention_masks_first, input_ids_second, attention_masks_second):\n",
    "        h1, _, _ = self.bert(input_ids = input_ids_first, attention_mask = attention_masks_first)\n",
    "        h1_cls = h1[:, 0]\n",
    "        h2, _, _ = self.bert(input_ids = input_ids_second, attention_mask = attention_masks_second)\n",
    "        h2_cls = h2[:, 0]\n",
    "        h_cls = torch.cat((h1_cls, h2_cls), dim = -1)\n",
    "        logits = self.linear(h_cls)\n",
    "        return logits"
   ]
  },
  {
   "cell_type": "code",
   "execution_count": 6,
   "metadata": {
    "collapsed": false,
    "deletable": true,
    "editable": true
   },
   "outputs": [],
   "source": [
    "model_bert = torch.load('model.pt').to(device)"
   ]
  },
  {
   "cell_type": "code",
   "execution_count": 7,
   "metadata": {
    "collapsed": false,
    "deletable": true,
    "editable": true
   },
   "outputs": [],
   "source": [
    "criterion = nn.BCEWithLogitsLoss(reduction = 'sum')\n",
    "optimizer_bert = AdamW(model_bert.parameters(), lr = 1e-5)"
   ]
  },
  {
   "cell_type": "code",
   "execution_count": 9,
   "metadata": {
    "collapsed": false,
    "deletable": true,
    "editable": true
   },
   "outputs": [
    {
     "name": "stdout",
     "output_type": "stream",
     "text": [
      "current epoch is 0\n",
      "current epoch is 1\n",
      "current epoch is 2\n",
      "current epoch is 3\n",
      "current epoch is 4\n"
     ]
    }
   ],
   "source": [
    "train_loss_list_bert = []\n",
    "val_loss_list_bert = []\n",
    "\n",
    "for epoch in range(5):\n",
    "    print(\"current epoch is \"+str(epoch))\n",
    "    train_loss = 0\n",
    "    train_correct = 0\n",
    "    train_total = 0\n",
    "    val_loss = 0\n",
    "    val_correct = 0\n",
    "    val_total = 0\n",
    "    model_bert.train()\n",
    "    for i, (input_ids_first, attention_masks_first, input_ids_second,\n",
    "            attention_masks_second, labels) in enumerate(train_loader_bert):\n",
    "        \n",
    "        optimizer_bert.zero_grad()\n",
    "        input_ids_first = input_ids_first.to(device)\n",
    "        attention_masks_first = attention_masks_first.to(device)\n",
    "        input_ids_second = input_ids_second.to(device)\n",
    "        attention_masks_second = attention_masks_second.to(device)\n",
    "        labels = labels.to(device).float()\n",
    "\n",
    "        \n",
    "        \n",
    "        logits = model_bert(input_ids_first, attention_masks_first, input_ids_second, attention_masks_second)\n",
    "        loss = criterion(logits, labels)\n",
    "        loss.backward()\n",
    "        optimizer_bert.step()\n",
    "        \n",
    "        train_loss += loss.item()\n",
    "        train_total += input_ids_first.size()[0]\n",
    "        \n",
    "    train_avg_loss = train_loss / train_total   \n",
    "    train_loss_list_bert.append(train_avg_loss)\n",
    "    \n",
    "    model_bert.eval()\n",
    "    with torch.no_grad():\n",
    "        for i, (input_ids_first, attention_masks_first, input_ids_second,\n",
    "                attention_masks_second, labels) in enumerate(val_loader_bert):\n",
    "        \n",
    "            input_ids_first = input_ids_first.to(device)\n",
    "            attention_masks_first = attention_masks_first.to(device)\n",
    "            input_ids_second = input_ids_second.to(device)\n",
    "            attention_masks_second = attention_masks_second.to(device)\n",
    "            labels = labels.to(device).float()\n",
    "\n",
    "            logits = model_bert(input_ids_first, attention_masks_first, input_ids_second, attention_masks_second)\n",
    "            loss = criterion(logits, labels)\n",
    "\n",
    "            val_loss += loss.item()\n",
    "            val_total += input_ids_first.size()[0]       \n",
    "        \n",
    "\n",
    "    val_avg_loss = val_loss / val_total  \n",
    "    val_loss_list_bert.append(val_avg_loss)"
   ]
  },
  {
   "cell_type": "code",
   "execution_count": 10,
   "metadata": {
    "collapsed": false,
    "deletable": true,
    "editable": true
   },
   "outputs": [
    {
     "data": {
      "image/png": "[encoded data removed]",
      "text/plain": [
       "<matplotlib.figure.Figure at 0x2b5275233ac8>"
      ]
     },
     "metadata": {},
     "output_type": "display_data"
    }
   ],
   "source": [
    "plt.plot(np.arange(5), train_loss_list_bert, label = 'train')\n",
    "plt.plot(np.arange(5), val_loss_list_bert, label = 'validation')\n",
    "plt.legend()\n",
    "plt.title('Bert Average Loss over Epoch')\n",
    "plt.xlabel('Epoch')\n",
    "plt.ylabel('Average Loss')\n",
    "plt.savefig('loss_retrain.jpg')"
   ]
  },
  {
   "cell_type": "code",
   "execution_count": 11,
   "metadata": {
    "collapsed": false,
    "deletable": true,
    "editable": true
   },
   "outputs": [
    {
     "name": "stderr",
     "output_type": "stream",
     "text": [
      "/home/jz3502/.local/lib/python3.5/site-packages/torch/serialization.py:360: UserWarning: Couldn't retrieve source code for container of type BERTClassifier. It won't be checked for correctness upon loading.\n",
      "  \"type \" + obj.__name__ + \". It won't be checked \"\n"
     ]
    }
   ],
   "source": [
    "torch.save(model_bert, 'model_retrain.pt')"
   ]
  },
  {
   "cell_type": "code",
   "execution_count": 12,
   "metadata": {
    "collapsed": false,
    "deletable": true,
    "editable": true
   },
   "outputs": [],
   "source": [
    "# model_bert = torch.load('model_retrain.pt').to(device)"
   ]
  },
  {
   "cell_type": "code",
   "execution_count": 12,
   "metadata": {
    "collapsed": false,
    "deletable": true,
    "editable": true
   },
   "outputs": [],
   "source": [
    "test_label = []\n",
    "test_logits = []\n",
    "test_prediction = []\n",
    "\n",
    "model_bert.eval()\n",
    "with torch.no_grad():\n",
    "    for i, (input_ids_first, attention_masks_first, input_ids_second,\n",
    "            attention_masks_second, labels) in enumerate(test_loader_bert):\n",
    "\n",
    "        input_ids_first = input_ids_first.to(device)\n",
    "        attention_masks_first = attention_masks_first.to(device)\n",
    "        input_ids_second = input_ids_second.to(device)\n",
    "        attention_masks_second = attention_masks_second.to(device)\n",
    "        labels = labels.to(device).float()\n",
    "\n",
    "        logits = model_bert(input_ids_first, attention_masks_first, input_ids_second, attention_masks_second)\n",
    "        sigmoid_logits = torch.sigmoid(logits)\n",
    "        prediction = torch.where(sigmoid_logits > 0.5, torch.tensor(1).to(device), torch.tensor(0).to(device))\n",
    "        \n",
    "        test_label.extend(labels.tolist())\n",
    "        test_logits.extend(logits.tolist())\n",
    "        test_prediction.extend(prediction.tolist())"
   ]
  },
  {
   "cell_type": "code",
   "execution_count": 13,
   "metadata": {
    "collapsed": false,
    "deletable": true,
    "editable": true
   },
   "outputs": [],
   "source": [
    "test_label_array = np.array(test_label)\n",
    "test_logits_array = np.array(test_logits)\n",
    "test_prediction_array = np.array(test_prediction)"
   ]
  },
  {
   "cell_type": "code",
   "execution_count": 14,
   "metadata": {
    "collapsed": false,
    "deletable": true,
    "editable": true
   },
   "outputs": [],
   "source": [
    "# Show precision and recall (at 10 and at 5)\n",
    "\n",
    "from sklearn.metrics import precision_score, recall_score"
   ]
  },
  {
   "cell_type": "code",
   "execution_count": 15,
   "metadata": {
    "collapsed": false,
    "deletable": true,
    "editable": true
   },
   "outputs": [],
   "source": [
    "# At 10\n",
    "\n",
    "label_at_10 = []\n",
    "prediction_at_10 = []\n",
    "\n",
    "top_10 = test_logits_array.argsort(axis = 1)[:,-10:]\n",
    "for row,top in enumerate(top_10):\n",
    "    test_label_top = test_label_array[row][top]\n",
    "    test_prediction_top = test_prediction_array[row][top]\n",
    "\n",
    "    label_at_10.extend(test_label_top)\n",
    "    prediction_at_10.extend(test_prediction_top)\n",
    "    "
   ]
  },
  {
   "cell_type": "code",
   "execution_count": 16,
   "metadata": {
    "collapsed": false,
    "deletable": true,
    "editable": true
   },
   "outputs": [],
   "source": [
    "precision_at_10 = precision_score(label_at_10, prediction_at_10)\n",
    "recall_at_10 = recall_score(label_at_10, prediction_at_10)"
   ]
  },
  {
   "cell_type": "code",
   "execution_count": 17,
   "metadata": {
    "collapsed": false,
    "deletable": true,
    "editable": true
   },
   "outputs": [
    {
     "name": "stdout",
     "output_type": "stream",
     "text": [
      "0.8336921479700563\n",
      "0.622743394978837\n"
     ]
    }
   ],
   "source": [
    "print(precision_at_10)\n",
    "print(recall_at_10)"
   ]
  },
  {
   "cell_type": "code",
   "execution_count": 18,
   "metadata": {
    "collapsed": false,
    "deletable": true,
    "editable": true
   },
   "outputs": [],
   "source": [
    "# At 5\n",
    "\n",
    "label_at_5 = []\n",
    "prediction_at_5 = []\n",
    "\n",
    "top_5 = test_logits_array.argsort(axis = 1)[:,-5:]\n",
    "for row,top in enumerate(top_5):\n",
    "    test_label_top = test_label_array[row][top]\n",
    "    test_prediction_top = test_prediction_array[row][top]\n",
    "\n",
    "    label_at_5.extend(test_label_top)\n",
    "    prediction_at_5.extend(test_prediction_top)"
   ]
  },
  {
   "cell_type": "code",
   "execution_count": 19,
   "metadata": {
    "collapsed": true,
    "deletable": true,
    "editable": true
   },
   "outputs": [],
   "source": [
    "precision_at_5 = precision_score(label_at_5, prediction_at_5)\n",
    "recall_at_5 = recall_score(label_at_5, prediction_at_5)"
   ]
  },
  {
   "cell_type": "code",
   "execution_count": 20,
   "metadata": {
    "collapsed": false,
    "deletable": true,
    "editable": true
   },
   "outputs": [
    {
     "name": "stdout",
     "output_type": "stream",
     "text": [
      "0.8595529807805222\n",
      "0.7974072191154041\n"
     ]
    }
   ],
   "source": [
    "print(precision_at_5)\n",
    "print(recall_at_5)"
   ]
  }
 ],
 "metadata": {
  "kernelspec": {
   "display_name": "Python 3",
   "language": "python",
   "name": "python3"
  },
  "language_info": {
   "codemirror_mode": {
    "name": "ipython",
    "version": 3
   },
   "file_extension": ".py",
   "mimetype": "text/x-python",
   "name": "python",
   "nbconvert_exporter": "python",
   "pygments_lexer": "ipython3",
   "version": "3.5.3"
  }
 },
 "nbformat": 4,
 "nbformat_minor": 2
}
